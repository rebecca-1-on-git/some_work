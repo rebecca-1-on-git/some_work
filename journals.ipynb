{
 "cells": [
  {
   "cell_type": "code",
   "execution_count": 119,
   "metadata": {},
   "outputs": [],
   "source": [
    "import re\n",
    "import requests\n",
    "from bs4 import BeautifulSoup"
   ]
  },
  {
   "cell_type": "code",
   "execution_count": 120,
   "metadata": {},
   "outputs": [],
   "source": [
    "def get_PERS():\n",
    "    with open('../PERS.txt', 'r') as file:\n",
    "        pers = {}\n",
    "        for line in file: \n",
    "            pattern = re.search(r'(?P<journal>.*)((?:\\s\\d{4}-\\d{4}\\s)|(?:\\s\\d{4}-\\d{3}X\\s))(?P<rating>\\S\\+?)', line)\n",
    "            if pattern:\n",
    "                listEntry = []\n",
    "                this_dict = pattern.groupdict()\n",
    "                pers[this_dict['journal']] = this_dict['rating']\n",
    "            else:\n",
    "                print(\"No match found\")\n",
    "        return pers"
   ]
  },
  {
   "cell_type": "code",
   "execution_count": 121,
   "metadata": {},
   "outputs": [],
   "source": [
    "def get_ORGA():\n",
    "    with open('../ORGA.txt', 'r') as file:\n",
    "        orga={}\n",
    "        for index,line in enumerate(file): \n",
    "            pattern = re.search(r'(?P<journal>.*)((?:\\s\\d{4}-\\d{4}\\s)|(?:\\s\\d{4}-\\d{3}X\\s))(?P<rating>\\S\\+?)', line)\n",
    "            if pattern:\n",
    "                this_dict = pattern.groupdict()\n",
    "                orga[this_dict['journal']] = this_dict['rating']\n",
    "            else:\n",
    "                print(\"No match found \" + line + str(index))\n",
    "        return orga"
   ]
  },
  {
   "cell_type": "code",
   "execution_count": 122,
   "metadata": {},
   "outputs": [],
   "source": [
    "orga = get_ORGA()\n",
    "pers = get_PERS()\n"
   ]
  },
  {
   "cell_type": "code",
   "execution_count": 123,
   "metadata": {},
   "outputs": [],
   "source": [
    "def writeFinalListToFile():\n",
    "    final = orga\n",
    "    for key_i, value_i in pers.items(): \n",
    "        if key_i not in orga.items():\n",
    "            final[key_i] = value_i\n",
    "    with open ('ORGA_plus_aditional_entries_from_pers.txt', 'w') as file:\n",
    "        for key,value in final.items():\n",
    "            file.write(key + '\\t' + value + '\\n')\n",
    "    return final"
   ]
  },
  {
   "cell_type": "code",
   "execution_count": 124,
   "metadata": {},
   "outputs": [],
   "source": [
    "journals = writeFinalListToFile()\n",
    "journalsList = [key for key,value in journals.items()]\n"
   ]
  },
  {
   "cell_type": "code",
   "execution_count": 125,
   "metadata": {},
   "outputs": [],
   "source": [
    "years = [2019]\n",
    "soupbar = {}\n",
    "for journal in journalsList: \n",
    "    for year in years:\n",
    "        URL = 'https://rds-stg.ibs-bw.de/opac/RDSProxy/Search?type0%5B%5D=tx&lookfor0%5B%5D=&join=AND&bool0%5B%5D=AND&type0%5B%5D=au&lookfor0%5B%5D=&join=AND&bool0%5B%5D=AND&type0%5B%5D=ti&lookfor0%5B%5D=resilience&join=AND&bool0%5B%5D=AND&type0%5B%5D=ct&lookfor0%5B%5D=&join=AND&bool0%5B%5D=AND&type0%5B%5D=isn&lookfor0%5B%5D=&join=AND&bool0%5B%5D=AND&type0%5B%5D=py&lookfor0%5B%5D=' + str(year) + '&join=AND&bool0%5B%5D=AND&type0%5B%5D=so&lookfor0%5B%5D=' + journal + '&join=AND&bool0%5B%5D=AND&type0%5B%5D=ab&lookfor0%5B%5D=%22company%22+OR+%22business%22+OR+%22firm%22+OR+%22enterprise%22+OR+%22corporation%22+OR+%22venture%22&join=AND&bool0%5B%5D=AND'\n",
    "        page = requests.get(URL)\n",
    "        soup = BeautifulSoup(page.content, \"html.parser\")\n",
    "        soupbar[(journal,year)] = soup"
   ]
  },
  {
   "cell_type": "code",
   "execution_count": 126,
   "metadata": {},
   "outputs": [
    {
     "data": {
      "text/plain": [
       "'8'"
      ]
     },
     "execution_count": 126,
     "metadata": {},
     "output_type": "execute_result"
    }
   ],
   "source": [
    "def getTotalNumberOfResults(soup):\n",
    "    numberOfResults = soup.find_all(\"div\", class_ = \"col-xs-7 rdsSearchInfo\")\n",
    "    return numberOfResults[0].contents[-2].string\n",
    "getTotalNumberOfResults(soupbar[('Journal of Management', 2019)])"
   ]
  },
  {
   "cell_type": "code",
   "execution_count": 127,
   "metadata": {},
   "outputs": [
    {
     "name": "stdout",
     "output_type": "stream",
     "text": [
      "\n",
      "      Does social capital pay off? The case of small business resilience after Hurricane Katrina.    \n",
      "\n",
      "      Business continuity of business models: Evaluating the resilience of business models for contingencies.    \n",
      "\n",
      "      The circular economy, natural capital and resilience in tourism and hospitality.    \n",
      "\n",
      "      Effect of supply-chain resilience on firm performance and competitive advantage: A study of the Sri Lankan apparel industry.    \n",
      "\n",
      "      Where is supply chain resilience research heading? A systematic and co-occurrence analysis.    \n",
      "\n",
      "      Bouncing Back: Building Resilience Through Social and Environmental Practices in the Context of the 2008 Global Financial Crisis.    \n",
      "\n",
      "      Organizational social capital, resilience and innovation validation of a theoretical model for specialized workers.    \n",
      "\n",
      "      A new training program in developing cultural intelligence can also improve innovative work behavior and resilience: A longitudinal pilot study of graduate students and professiona...    \n"
     ]
    }
   ],
   "source": [
    "soup = soupbar[('Journal of Management', 2019)]\n",
    "titleList = soup.find_all(\"a\", class_=\"title getFull\")\n",
    "for title in titleList:\n",
    "    print(title.string)"
   ]
  },
  {
   "cell_type": "code",
   "execution_count": 129,
   "metadata": {},
   "outputs": [
    {
     "name": "stdout",
     "output_type": "stream",
     "text": [
      "<class 'bs4.element.ResultSet'>\n",
      "0\n"
     ]
    }
   ],
   "source": [
    "autorList = soup.find_all(\"div\", id=\"core_7bc747d862291f3ceff93e271325d6ae-content\")\n",
    "print(type(autorList))\n",
    "print(len(autorList))"
   ]
  }
 ],
 "metadata": {
  "kernelspec": {
   "display_name": ".venv",
   "language": "python",
   "name": "python3"
  },
  "language_info": {
   "codemirror_mode": {
    "name": "ipython",
    "version": 3
   },
   "file_extension": ".py",
   "mimetype": "text/x-python",
   "name": "python",
   "nbconvert_exporter": "python",
   "pygments_lexer": "ipython3",
   "version": "3.12.5"
  }
 },
 "nbformat": 4,
 "nbformat_minor": 2
}
