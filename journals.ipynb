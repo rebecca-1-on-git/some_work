{
 "cells": [
  {
   "cell_type": "code",
   "execution_count": 1,
   "metadata": {},
   "outputs": [],
   "source": [
    "import requests\n",
    "from bs4 import BeautifulSoup\n",
    "from generateJournalList import getJournalListFromFile\n",
    "from publications import Publication\n",
    "from information import SearchStringEntry\n",
    "from souptool import *\n",
    "import re"
   ]
  },
  {
   "cell_type": "code",
   "execution_count": 2,
   "metadata": {},
   "outputs": [],
   "source": [
    "journalList = getJournalListFromFile('small.txt')"
   ]
  },
  {
   "cell_type": "code",
   "execution_count": 3,
   "metadata": {},
   "outputs": [
    {
     "name": "stdout",
     "output_type": "stream",
     "text": [
      "<class 'str'>\n",
      "<class 'str'>\n",
      "<class 'str'>\n"
     ]
    }
   ],
   "source": [
    "for elem in journalList:\n",
    "    print(type(elem.getName()))"
   ]
  },
  {
   "cell_type": "code",
   "execution_count": 4,
   "metadata": {},
   "outputs": [],
   "source": [
    "hitsInfo, results = scraping(journalList= journalList)"
   ]
  },
  {
   "cell_type": "code",
   "execution_count": 5,
   "metadata": {},
   "outputs": [
    {
     "name": "stdout",
     "output_type": "stream",
     "text": [
      "TITLE = (\"resilience\") AND ABSTRACT = (\"company\" OR \"business\" OR \"firm\" OR \"enterprise\" OR \"corporation\" OR \"venture\")\n",
      "Universitätsbibliothek Stuttgart Katalog plus\n",
      "1\n",
      "Journal of International Business Studies\n",
      "1\n",
      "***************\n",
      "TITLE = (\"resilience\") AND ABSTRACT = (\"company\" OR \"business\" OR \"firm\" OR \"enterprise\" OR \"corporation\" OR \"venture\")\n",
      "Universitätsbibliothek Stuttgart Katalog plus\n",
      "128\n",
      "Journal of Management\n",
      "9\n",
      "***************\n",
      "TITLE = (\"resilience\") AND ABSTRACT = (\"company\" OR \"business\" OR \"firm\" OR \"enterprise\" OR \"corporation\" OR \"venture\")\n",
      "Universitätsbibliothek Stuttgart Katalog plus\n",
      "1\n",
      "Journal of Management Studies\n",
      "1\n",
      "***************\n"
     ]
    }
   ],
   "source": [
    "for elem in hitsInfo:\n",
    "    print(elem.getSearchString())\n",
    "    print(elem.getSearchEngine())\n",
    "    print(elem.getNumResults())\n",
    "    print(elem.getJournal())\n",
    "    print(elem.getHitsNoMismatch())\n",
    "    print(15*'*')"
   ]
  },
  {
   "cell_type": "code",
   "execution_count": 6,
   "metadata": {},
   "outputs": [
    {
     "name": "stdout",
     "output_type": "stream",
     "text": [
      "On the resilience of ESG firms during the COVID-19 crisis: evidence across countries and asset classes.\n",
      "Journal of International Business Studies; Oct2024, Vol. 55 Issue 8, p1069-1084, 16p\n",
      "--------------------\n",
      "Bouncing Back: Building Resilience Through Social and Environmental Practices in the Context of the 2008 Global Financial Crisis.\n",
      "Journal of Management. Apr2019, Vol. 45 Issue 4, p1434-1460. 27p.\n",
      "--------------------\n",
      "The Impetus for Resilience and Change in Business Education and Management Research.\n",
      "Journal of Management Inquiry. Apr2020, Vol. 29 Issue 2, p128-133. 6p.\n",
      "--------------------\n",
      "Transformation and Resilience at the University of Redlands.\n",
      "Journal of Management Inquiry. Apr2020, Vol. 29 Issue 2, p139-144. 6p.\n",
      "--------------------\n",
      "How to emerge stronger: Antecedents and consequences of organizational resilience.\n",
      "Journal of Management & Organization. May2021, Vol. 27 Issue 3, p442-459. 18p.\n",
      "--------------------\n",
      "The mediating role of levers of controls on the association between sustainable leadership and organisational resilience.\n",
      "Journal of Management Control; Jun2023, Vol. 34 Issue 2, p167-200, 34p\n",
      "--------------------\n",
      "Concentrated or Dispersed: The Effects of Subcontracting Organizational Arrangements on Construction Project Resilience.\n",
      "Journal of Management in Engineering. May2024, Vol. 40 Issue 3, p1-11. 11p.\n",
      "--------------------\n",
      "Sea Change? Sensemaking, Firm Reactions, and Community Resilience Following Climate Disasters.\n",
      "Journal of Management Studies (John Wiley & Sons, Inc.). Nov2024, Vol. 61 Issue 7, p3021-3051. 31p.\n",
      "--------------------\n",
      "The role of enterprise risk management in enabling organisational resilience: a case study of the Swedish mining industry.\n",
      "Journal of Management Control; Mar2024, Vol. 35 Issue 1, p59-108, 50p\n",
      "--------------------\n",
      "The role of risk management orientation and the planning function of budgeting in enhancing organizational resilience and its effect on competitive advantages during times of crise...\n",
      "Journal of Management Control; Mar2024, Vol. 35 Issue 1, p17-58, 42p\n",
      "--------------------\n",
      "Sea Change? Sensemaking, Firm Reactions, and Community Resilience Following Climate Disasters.\n",
      "Journal of Management Studies (John Wiley & Sons, Inc.). Nov2024, Vol. 61 Issue 7, p3021-3051. 31p.\n",
      "--------------------\n"
     ]
    }
   ],
   "source": [
    "for elem in results:\n",
    "    print(elem.getTitle())\n",
    "    print(elem.getJournal())\n",
    "    print(20*'-')"
   ]
  },
  {
   "cell_type": "code",
   "execution_count": 7,
   "metadata": {},
   "outputs": [
    {
     "name": "stdout",
     "output_type": "stream",
     "text": [
      "11\n"
     ]
    }
   ],
   "source": [
    "print(len(results))"
   ]
  }
 ],
 "metadata": {
  "kernelspec": {
   "display_name": ".venv",
   "language": "python",
   "name": "python3"
  },
  "language_info": {
   "codemirror_mode": {
    "name": "ipython",
    "version": 3
   },
   "file_extension": ".py",
   "mimetype": "text/x-python",
   "name": "python",
   "nbconvert_exporter": "python",
   "pygments_lexer": "ipython3",
   "version": "3.12.5"
  }
 },
 "nbformat": 4,
 "nbformat_minor": 2
}
